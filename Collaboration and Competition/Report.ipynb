{
 "cells": [
  {
   "cell_type": "markdown",
   "metadata": {},
   "source": [
    "# Collaboration and Competition\n",
    "\n",
    "---\n",
    "\n",
    "You are welcome to use this coding environment to train your agent for the project.  Follow the instructions below to get started!\n",
    "\n",
    "### 1. Start the Environment\n",
    "\n",
    "Run the next code cell to install a few packages.  This line will take a few minutes to run!"
   ]
  },
  {
   "cell_type": "code",
   "execution_count": 1,
   "metadata": {},
   "outputs": [
    {
     "name": "stdout",
     "output_type": "stream",
     "text": [
      "\u001b[31mtensorflow 1.7.1 has requirement numpy>=1.13.3, but you'll have numpy 1.12.1 which is incompatible.\u001b[0m\r\n",
      "\u001b[31mipython 6.5.0 has requirement prompt-toolkit<2.0.0,>=1.0.15, but you'll have prompt-toolkit 2.0.10 which is incompatible.\u001b[0m\r\n"
     ]
    }
   ],
   "source": [
    "!pip -q install ./python"
   ]
  },
  {
   "cell_type": "markdown",
   "metadata": {},
   "source": [
    "The environment is already saved in the Workspace and can be accessed at the file path provided below. "
   ]
  },
  {
   "cell_type": "code",
   "execution_count": 2,
   "metadata": {},
   "outputs": [
    {
     "name": "stderr",
     "output_type": "stream",
     "text": [
      "INFO:unityagents:\n",
      "'Academy' started successfully!\n",
      "Unity Academy name: Academy\n",
      "        Number of Brains: 1\n",
      "        Number of External Brains : 1\n",
      "        Lesson number : 0\n",
      "        Reset Parameters :\n",
      "\t\t\n",
      "Unity brain name: TennisBrain\n",
      "        Number of Visual Observations (per agent): 0\n",
      "        Vector Observation space type: continuous\n",
      "        Vector Observation space size (per agent): 8\n",
      "        Number of stacked Vector Observation: 3\n",
      "        Vector Action space type: continuous\n",
      "        Vector Action space size (per agent): 2\n",
      "        Vector Action descriptions: , \n"
     ]
    }
   ],
   "source": [
    "from unityagents import UnityEnvironment\n",
    "import numpy as np\n",
    "\n",
    "env = UnityEnvironment(file_name=\"/data/Tennis_Linux_NoVis/Tennis\")"
   ]
  },
  {
   "cell_type": "markdown",
   "metadata": {},
   "source": [
    "Environments contain **_brains_** which are responsible for deciding the actions of their associated agents. Here we check for the first brain available, and set it as the default brain we will be controlling from Python."
   ]
  },
  {
   "cell_type": "code",
   "execution_count": 3,
   "metadata": {},
   "outputs": [],
   "source": [
    "# get the default brain\n",
    "brain_name = env.brain_names[0]\n",
    "brain = env.brains[brain_name]"
   ]
  },
  {
   "cell_type": "markdown",
   "metadata": {},
   "source": [
    "### 2. Examine the State and Action Spaces\n",
    "\n",
    "Run the code cell below to print some information about the environment."
   ]
  },
  {
   "cell_type": "code",
   "execution_count": 4,
   "metadata": {},
   "outputs": [
    {
     "name": "stdout",
     "output_type": "stream",
     "text": [
      "Number of agents: 2\n",
      "Size of each action: 2\n",
      "There are 2 agents. Each observes a state with length: 24\n",
      "The state for the first agent looks like: [ 0.          0.          0.          0.          0.          0.          0.\n",
      "  0.          0.          0.          0.          0.          0.          0.\n",
      "  0.          0.         -6.65278625 -1.5        -0.          0.\n",
      "  6.83172083  6.         -0.          0.        ]\n"
     ]
    }
   ],
   "source": [
    "# reset the environment\n",
    "env_info = env.reset(train_mode=True)[brain_name]\n",
    "\n",
    "# number of agents \n",
    "num_agents = len(env_info.agents)\n",
    "print('Number of agents:', num_agents)\n",
    "\n",
    "# size of each action\n",
    "action_size = brain.vector_action_space_size\n",
    "print('Size of each action:', action_size)\n",
    "\n",
    "# examine the state space \n",
    "states = env_info.vector_observations\n",
    "state_size = states.shape[1]\n",
    "print('There are {} agents. Each observes a state with length: {}'.format(states.shape[0], state_size))\n",
    "print('The state for the first agent looks like:', states[0])"
   ]
  },
  {
   "cell_type": "markdown",
   "metadata": {},
   "source": [
    "### 3. Take Random Actions in the Environment\n",
    "\n",
    "In the next code cell, you will learn how to use the Python API to control the agent and receive feedback from the environment.\n",
    "\n",
    "Note that **in this coding environment, you will not be able to watch the agents while they are training**, and you should set `train_mode=True` to restart the environment."
   ]
  },
  {
   "cell_type": "code",
   "execution_count": 5,
   "metadata": {},
   "outputs": [
    {
     "name": "stdout",
     "output_type": "stream",
     "text": [
      "Total score (averaged over agents) this episode: -0.004999999888241291\n",
      "Total score (averaged over agents) this episode: -0.004999999888241291\n",
      "Total score (averaged over agents) this episode: -0.004999999888241291\n",
      "Total score (averaged over agents) this episode: 0.04500000085681677\n",
      "Total score (averaged over agents) this episode: 0.04500000085681677\n"
     ]
    }
   ],
   "source": [
    "for i in range(5):                                         # play game for 5 episodes\n",
    "    env_info = env.reset(train_mode=False)[brain_name]     # reset the environment    \n",
    "    states = env_info.vector_observations                  # get the current state (for each agent)\n",
    "    scores = np.zeros(num_agents)                          # initialize the score (for each agent)\n",
    "    while True:\n",
    "        actions = np.random.randn(num_agents, action_size) # select an action (for each agent)\n",
    "        actions = np.clip(actions, -1, 1)                  # all actions between -1 and 1\n",
    "        env_info = env.step(actions)[brain_name]           # send all actions to tne environment\n",
    "        next_states = env_info.vector_observations         # get next state (for each agent)\n",
    "        rewards = env_info.rewards                         # get reward (for each agent)\n",
    "        dones = env_info.local_done                        # see if episode finished\n",
    "        scores += env_info.rewards                         # update the score (for each agent)\n",
    "        states = next_states                               # roll over states to next time step\n",
    "        if np.any(dones):                                  # exit loop if episode finished\n",
    "            break\n",
    "    print('Total score (averaged over agents) this episode: {}'.format(np.mean(scores)))"
   ]
  },
  {
   "cell_type": "markdown",
   "metadata": {},
   "source": [
    "When finished, you can close the environment."
   ]
  },
  {
   "cell_type": "code",
   "execution_count": 6,
   "metadata": {},
   "outputs": [],
   "source": [
    "#env.close()"
   ]
  },
  {
   "cell_type": "markdown",
   "metadata": {},
   "source": [
    "### 4. Train your agent\n",
    "\n",
    "A few **important notes**:\n",
    "- When training the environment, set `train_mode=True`, so that the line for resetting the environment looks like the following:\n",
    "```python\n",
    "env_info = env.reset(train_mode=True)[brain_name]\n",
    "```\n",
    "- In this coding environment, you will not be able to watch the agents while they are training.  However, **_after training the agents_**, you can download the saved model weights to watch the agents on your own machine! \n",
    "\n",
    "###### 4.1 Learning algorithm -  DDPG\n",
    "\n",
    "Deep Deterministic Policy Gradient was proposed in Continuous control with deep reinforcement learning(Lillicrap et al, 2015). DDPG is an off policy algorithm and can only be used only for continuous action spaces. It simultaneously learns a function and a policy. It's an actor critic algorithm and uses two neural networks. The algorithm also applies experience replay and target networks to stabilize the training. To boost exploration, the authors of the DDPG paper have used Ornstein-Uhlenbeck Process to add noise to the action output. But for this training run, I would only be adding Gaussian noise.\n",
    "\n",
    "<figure>\n",
    "    <img src=\"images/algorithm.png\" width=\"600\" height=\"400\">\n",
    "    <figcaption style = \"text-align:center; font-style:italic\">Taken from Continuous control with deep reinforcement learning(Lillicrap et al, 2015)</figcaption>\n",
    "</figure>\n",
    "    \n",
    "###### 4.1 Model architecture\n",
    "\n",
    "The Actor network consist of three fully connected layer with batchnormalization applied at the first layer. The network maps states to actions. It uses ReLU as activation function except the last layer where it use tanh. \n",
    "\n",
    "The critic network also consist of three fully connected layer with batchnormalization applied at the first layer. The network maps maps (state,action) pairs to Q-values. It uses ReLU as activation function in the first two layers and no activation function for the last layer.\n",
    "\n",
    "###### 4.1 Hyperparameters\n",
    "\n",
    "* fc1_units=400 # Number of nodes in the first hidden layer\n",
    "* fc2_units=300 # Number of nodes in the second hidden layer\n",
    "* BUFFER_SIZE = int(1e6) # replay buffer size\n",
    "* BATCH_SIZE = 256       # minibatch size\n",
    "* GAMMA = 0.99           # discount factor\n",
    "* TAU = 2e-3             # for soft update of target parameters\n",
    "* LR_ACTOR = 1e-3        # learning rate of the actor\n",
    "* LR_CRITIC = 1e-3       # learning rate of the critic\n",
    "* WEIGHT_DECAY = 0       # L2 weight decay\n",
    "* LEARN_EVERY = 1       # learning timestep interval\n",
    "* LEARN_NUM = 10            # number of learning passes\n",
    "* GRAD_CLIPPING = 1.0         # gradient clipping \n",
    "* EPSILON = 1.0         # for epsilon in the noise process (act step)\n",
    "* EPSILON_DECAY = 1e-6 # epsilon decay rate"
   ]
  },
  {
   "cell_type": "code",
   "execution_count": 7,
   "metadata": {},
   "outputs": [],
   "source": [
    "import numpy as np\n",
    "import random\n",
    "import time\n",
    "import torch\n",
    "\n",
    "import matplotlib.pyplot as plt\n",
    "%matplotlib inline\n",
    "\n",
    "from collections import deque\n",
    "from ddpg_agent import Agent\n",
    "from unityagents import UnityEnvironment"
   ]
  },
  {
   "cell_type": "code",
   "execution_count": 8,
   "metadata": {},
   "outputs": [],
   "source": [
    "seed = 3"
   ]
  },
  {
   "cell_type": "code",
   "execution_count": 9,
   "metadata": {},
   "outputs": [],
   "source": [
    "# DDPG function\n",
    "def ddpg(num_episodes=10000, max_t=1000, print_every=1, actor_weights_name='actor.pth', critic_weights_name='critic.pth'):\n",
    "    \"\"\"Deep Deterministic Policy Gradient\n",
    "    \n",
    "    Params\n",
    "    ======\n",
    "    n_episodes (int): maximum number of training episodes\n",
    "    max_t (int): maximum number of timesteps per episode\n",
    "    print_every (int): interval to display results\n",
    "    \n",
    "    \"\"\"\n",
    "    max_scores = [] # list of mean scores from each episode\n",
    "    moving_avgs = [] # list of moving averages\n",
    "    best_score = -np.inf\n",
    "    scores_window = deque(maxlen=100) # mean score from last 100 episodes\n",
    "    initial_time = time.time()\n",
    "    \n",
    "    for i_episode in range(1, num_episodes + 1):\n",
    "        env_info = env.reset(train_mode=True)[brain_name] # reset environment\n",
    "        states = env_info.vector_observations # get current state for each observations\n",
    "        scores = np.zeros(num_agents) # initialize score for each agent\n",
    "        agent.reset()\n",
    "        start_time = time.time()\n",
    "        for t in range(max_t):\n",
    "            actions = agent.act(states, add_noise=True) # select an action\n",
    "            env_info = env.step(actions)[brain_name]  # send all actions to tne environment\n",
    "            next_states = env_info.vector_observations # get next state (for each agent)\n",
    "            rewards = env_info.rewards # get reward (for each agent)\n",
    "            dones = env_info.local_done # see if episode finished\n",
    "            # perform learning step\n",
    "            for state, action, reward, next_state, done in zip(states, actions, rewards, next_states, dones):\n",
    "                agent.step(state, action, reward, next_state, done, t)\n",
    "            states = next_states\n",
    "            scores += rewards\n",
    "            if np.any(dones):\n",
    "                break\n",
    "        duration = time.time() - start_time\n",
    "        max_scores.append(np.max(scores)) # save max score for each episode\n",
    "        scores_window.append(max_scores[-1]) # save max score to window\n",
    "        moving_avgs.append(np.mean(scores_window)) # save moving average\n",
    "        \n",
    "        if i_episode % print_every == 0:\n",
    "            print(\"\\rEpisode {} ({}s)\\tMax score: {:.3f}\\tMoving Avg: {:.3f}\"\\\n",
    "                  .format(i_episode, round(duration), max_scores[-1], moving_avgs[-1]))\n",
    "        if moving_avgs[-1] >= 0.5:\n",
    "            print(\"\\nEnvironment solved in {:d} episodes.\\tAverage score: {:.3f}\\tTotal training time: {}s\"\\\n",
    "                 .format(i_episode, moving_avgs[-1], (time.time()-initial_time)))\n",
    "            torch.save(agent.actor_local.state_dict(), actor_weights_name)\n",
    "            torch.save(agent.critic_local.state_dict(), critic_weights_name)\n",
    "            break\n",
    "            \n",
    "    return max_scores, moving_avgs\n",
    "    "
   ]
  },
  {
   "cell_type": "code",
   "execution_count": 10,
   "metadata": {},
   "outputs": [],
   "source": [
    "# start the training loop\n",
    "agent = Agent(state_size=state_size, action_size=action_size, random_seed=seed)"
   ]
  },
  {
   "cell_type": "code",
   "execution_count": 11,
   "metadata": {},
   "outputs": [],
   "source": [
    "import workspace_utils"
   ]
  },
  {
   "cell_type": "code",
   "execution_count": 12,
   "metadata": {},
   "outputs": [
    {
     "name": "stdout",
     "output_type": "stream",
     "text": [
      "Episode 1 (0s)\tMax score: 0.000\tMoving Avg: 0.000\n",
      "Episode 2 (0s)\tMax score: 0.000\tMoving Avg: 0.000\n",
      "Episode 3 (0s)\tMax score: 0.100\tMoving Avg: 0.033\n",
      "Episode 4 (0s)\tMax score: 0.000\tMoving Avg: 0.025\n",
      "Episode 5 (0s)\tMax score: 0.000\tMoving Avg: 0.020\n",
      "Episode 6 (0s)\tMax score: 0.000\tMoving Avg: 0.017\n",
      "Episode 7 (0s)\tMax score: 0.000\tMoving Avg: 0.014\n",
      "Episode 8 (2s)\tMax score: 0.000\tMoving Avg: 0.013\n",
      "Episode 9 (4s)\tMax score: 0.000\tMoving Avg: 0.011\n",
      "Episode 10 (4s)\tMax score: 0.000\tMoving Avg: 0.010\n",
      "Episode 11 (4s)\tMax score: 0.000\tMoving Avg: 0.009\n",
      "Episode 12 (4s)\tMax score: 0.000\tMoving Avg: 0.008\n",
      "Episode 13 (4s)\tMax score: 0.000\tMoving Avg: 0.008\n",
      "Episode 14 (4s)\tMax score: 0.000\tMoving Avg: 0.007\n",
      "Episode 15 (4s)\tMax score: 0.000\tMoving Avg: 0.007\n",
      "Episode 16 (4s)\tMax score: 0.000\tMoving Avg: 0.006\n",
      "Episode 17 (4s)\tMax score: 0.000\tMoving Avg: 0.006\n",
      "Episode 18 (4s)\tMax score: 0.000\tMoving Avg: 0.006\n",
      "Episode 19 (4s)\tMax score: 0.000\tMoving Avg: 0.005\n",
      "Episode 20 (4s)\tMax score: 0.000\tMoving Avg: 0.005\n",
      "Episode 21 (4s)\tMax score: 0.000\tMoving Avg: 0.005\n",
      "Episode 22 (11s)\tMax score: 0.100\tMoving Avg: 0.009\n",
      "Episode 23 (4s)\tMax score: 0.000\tMoving Avg: 0.009\n",
      "Episode 24 (4s)\tMax score: 0.000\tMoving Avg: 0.008\n",
      "Episode 25 (4s)\tMax score: 0.000\tMoving Avg: 0.008\n",
      "Episode 26 (5s)\tMax score: 0.000\tMoving Avg: 0.008\n",
      "Episode 27 (4s)\tMax score: 0.000\tMoving Avg: 0.007\n",
      "Episode 28 (9s)\tMax score: 0.100\tMoving Avg: 0.011\n",
      "Episode 29 (4s)\tMax score: 0.000\tMoving Avg: 0.010\n",
      "Episode 30 (4s)\tMax score: 0.000\tMoving Avg: 0.010\n",
      "Episode 31 (47s)\tMax score: 0.300\tMoving Avg: 0.019\n",
      "Episode 32 (9s)\tMax score: 0.100\tMoving Avg: 0.022\n",
      "Episode 33 (9s)\tMax score: 0.100\tMoving Avg: 0.024\n",
      "Episode 34 (4s)\tMax score: 0.000\tMoving Avg: 0.024\n",
      "Episode 35 (12s)\tMax score: 0.100\tMoving Avg: 0.026\n",
      "Episode 36 (4s)\tMax score: 0.000\tMoving Avg: 0.025\n",
      "Episode 37 (4s)\tMax score: 0.000\tMoving Avg: 0.024\n",
      "Episode 38 (10s)\tMax score: 0.090\tMoving Avg: 0.026\n",
      "Episode 39 (10s)\tMax score: 0.100\tMoving Avg: 0.028\n",
      "Episode 40 (4s)\tMax score: 0.000\tMoving Avg: 0.027\n",
      "Episode 41 (10s)\tMax score: 0.100\tMoving Avg: 0.029\n",
      "Episode 42 (4s)\tMax score: 0.000\tMoving Avg: 0.028\n",
      "Episode 43 (4s)\tMax score: 0.000\tMoving Avg: 0.028\n",
      "Episode 44 (10s)\tMax score: 0.090\tMoving Avg: 0.029\n",
      "Episode 45 (5s)\tMax score: 0.000\tMoving Avg: 0.028\n",
      "Episode 46 (4s)\tMax score: 0.000\tMoving Avg: 0.028\n",
      "Episode 47 (7s)\tMax score: 0.100\tMoving Avg: 0.029\n",
      "Episode 48 (10s)\tMax score: 0.090\tMoving Avg: 0.031\n",
      "Episode 49 (9s)\tMax score: 0.000\tMoving Avg: 0.030\n",
      "Episode 50 (10s)\tMax score: 0.100\tMoving Avg: 0.031\n",
      "Episode 51 (11s)\tMax score: 0.100\tMoving Avg: 0.033\n",
      "Episode 52 (15s)\tMax score: 0.100\tMoving Avg: 0.034\n",
      "Episode 53 (37s)\tMax score: 0.300\tMoving Avg: 0.039\n",
      "Episode 54 (15s)\tMax score: 0.100\tMoving Avg: 0.040\n",
      "Episode 55 (16s)\tMax score: 0.100\tMoving Avg: 0.041\n",
      "Episode 56 (4s)\tMax score: 0.000\tMoving Avg: 0.041\n",
      "Episode 57 (26s)\tMax score: 0.200\tMoving Avg: 0.043\n",
      "Episode 58 (10s)\tMax score: 0.100\tMoving Avg: 0.044\n",
      "Episode 59 (15s)\tMax score: 0.100\tMoving Avg: 0.045\n",
      "Episode 60 (15s)\tMax score: 0.100\tMoving Avg: 0.046\n",
      "Episode 61 (21s)\tMax score: 0.200\tMoving Avg: 0.049\n",
      "Episode 62 (14s)\tMax score: 0.100\tMoving Avg: 0.050\n",
      "Episode 63 (9s)\tMax score: 0.100\tMoving Avg: 0.050\n",
      "Episode 64 (21s)\tMax score: 0.200\tMoving Avg: 0.053\n",
      "Episode 65 (21s)\tMax score: 0.200\tMoving Avg: 0.055\n",
      "Episode 66 (9s)\tMax score: 0.100\tMoving Avg: 0.056\n",
      "Episode 67 (58s)\tMax score: 0.500\tMoving Avg: 0.062\n",
      "Episode 68 (4s)\tMax score: 0.000\tMoving Avg: 0.061\n",
      "Episode 69 (37s)\tMax score: 0.300\tMoving Avg: 0.065\n",
      "Episode 70 (27s)\tMax score: 0.200\tMoving Avg: 0.067\n",
      "Episode 71 (56s)\tMax score: 0.500\tMoving Avg: 0.073\n",
      "Episode 72 (21s)\tMax score: 0.200\tMoving Avg: 0.075\n",
      "Episode 73 (27s)\tMax score: 0.200\tMoving Avg: 0.076\n",
      "Episode 74 (12s)\tMax score: 0.100\tMoving Avg: 0.077\n",
      "Episode 75 (15s)\tMax score: 0.100\tMoving Avg: 0.077\n",
      "Episode 76 (9s)\tMax score: 0.100\tMoving Avg: 0.077\n",
      "Episode 77 (10s)\tMax score: 0.100\tMoving Avg: 0.078\n",
      "Episode 78 (10s)\tMax score: 0.100\tMoving Avg: 0.078\n",
      "Episode 79 (8s)\tMax score: 0.100\tMoving Avg: 0.078\n",
      "Episode 80 (60s)\tMax score: 0.500\tMoving Avg: 0.083\n",
      "Episode 81 (29s)\tMax score: 0.200\tMoving Avg: 0.085\n",
      "Episode 82 (4s)\tMax score: 0.000\tMoving Avg: 0.084\n",
      "Episode 83 (60s)\tMax score: 0.500\tMoving Avg: 0.089\n",
      "Episode 84 (21s)\tMax score: 0.100\tMoving Avg: 0.089\n",
      "Episode 85 (16s)\tMax score: 0.100\tMoving Avg: 0.089\n",
      "Episode 86 (15s)\tMax score: 0.100\tMoving Avg: 0.089\n",
      "Episode 87 (9s)\tMax score: 0.100\tMoving Avg: 0.089\n",
      "Episode 88 (9s)\tMax score: 0.100\tMoving Avg: 0.089\n",
      "Episode 89 (4s)\tMax score: 0.000\tMoving Avg: 0.088\n",
      "Episode 90 (4s)\tMax score: 0.000\tMoving Avg: 0.087\n",
      "Episode 91 (5s)\tMax score: 0.000\tMoving Avg: 0.086\n",
      "Episode 92 (4s)\tMax score: 0.000\tMoving Avg: 0.086\n",
      "Episode 93 (108s)\tMax score: 0.900\tMoving Avg: 0.094\n",
      "Episode 94 (21s)\tMax score: 0.100\tMoving Avg: 0.094\n",
      "Episode 95 (21s)\tMax score: 0.200\tMoving Avg: 0.095\n",
      "Episode 96 (21s)\tMax score: 0.200\tMoving Avg: 0.097\n",
      "Episode 97 (21s)\tMax score: 0.200\tMoving Avg: 0.098\n",
      "Episode 98 (13s)\tMax score: 0.100\tMoving Avg: 0.098\n",
      "Episode 99 (30s)\tMax score: 0.290\tMoving Avg: 0.100\n",
      "Episode 100 (8s)\tMax score: 0.100\tMoving Avg: 0.100\n",
      "Episode 101 (21s)\tMax score: 0.200\tMoving Avg: 0.102\n",
      "Episode 102 (15s)\tMax score: 0.100\tMoving Avg: 0.103\n",
      "Episode 103 (104s)\tMax score: 0.900\tMoving Avg: 0.111\n",
      "Episode 104 (19s)\tMax score: 0.190\tMoving Avg: 0.113\n",
      "Episode 105 (149s)\tMax score: 1.300\tMoving Avg: 0.126\n",
      "Episode 106 (27s)\tMax score: 0.200\tMoving Avg: 0.128\n",
      "Episode 107 (10s)\tMax score: 0.090\tMoving Avg: 0.128\n",
      "Episode 108 (11s)\tMax score: 0.100\tMoving Avg: 0.129\n",
      "Episode 109 (56s)\tMax score: 0.400\tMoving Avg: 0.133\n",
      "Episode 110 (15s)\tMax score: 0.100\tMoving Avg: 0.134\n",
      "Episode 111 (6s)\tMax score: 0.000\tMoving Avg: 0.134\n",
      "Episode 112 (16s)\tMax score: 0.100\tMoving Avg: 0.135\n",
      "Episode 113 (27s)\tMax score: 0.200\tMoving Avg: 0.137\n",
      "Episode 114 (44s)\tMax score: 0.400\tMoving Avg: 0.141\n",
      "Episode 115 (43s)\tMax score: 0.400\tMoving Avg: 0.145\n",
      "Episode 116 (32s)\tMax score: 0.300\tMoving Avg: 0.148\n",
      "Episode 117 (4s)\tMax score: 0.000\tMoving Avg: 0.148\n",
      "Episode 118 (26s)\tMax score: 0.200\tMoving Avg: 0.150\n",
      "Episode 119 (16s)\tMax score: 0.100\tMoving Avg: 0.151\n",
      "Episode 120 (4s)\tMax score: 0.000\tMoving Avg: 0.151\n",
      "Episode 121 (10s)\tMax score: 0.090\tMoving Avg: 0.152\n",
      "Episode 122 (78s)\tMax score: 0.600\tMoving Avg: 0.157\n",
      "Episode 123 (10s)\tMax score: 0.000\tMoving Avg: 0.157\n",
      "Episode 124 (4s)\tMax score: 0.000\tMoving Avg: 0.157\n",
      "Episode 125 (16s)\tMax score: 0.100\tMoving Avg: 0.158\n",
      "Episode 126 (4s)\tMax score: 0.000\tMoving Avg: 0.158\n",
      "Episode 127 (6s)\tMax score: 0.000\tMoving Avg: 0.158\n",
      "Episode 128 (8s)\tMax score: 0.100\tMoving Avg: 0.158\n",
      "Episode 129 (17s)\tMax score: 0.100\tMoving Avg: 0.159\n",
      "Episode 130 (15s)\tMax score: 0.100\tMoving Avg: 0.160\n",
      "Episode 131 (27s)\tMax score: 0.200\tMoving Avg: 0.159\n",
      "Episode 132 (37s)\tMax score: 0.300\tMoving Avg: 0.161\n",
      "Episode 133 (13s)\tMax score: 0.100\tMoving Avg: 0.161\n",
      "Episode 134 (10s)\tMax score: 0.100\tMoving Avg: 0.162\n",
      "Episode 135 (15s)\tMax score: 0.100\tMoving Avg: 0.162\n",
      "Episode 136 (15s)\tMax score: 0.100\tMoving Avg: 0.163\n",
      "Episode 137 (5s)\tMax score: 0.000\tMoving Avg: 0.163\n",
      "Episode 138 (4s)\tMax score: 0.000\tMoving Avg: 0.162\n",
      "Episode 139 (14s)\tMax score: 0.100\tMoving Avg: 0.162\n",
      "Episode 140 (10s)\tMax score: 0.100\tMoving Avg: 0.163\n",
      "Episode 141 (15s)\tMax score: 0.100\tMoving Avg: 0.163\n",
      "Episode 142 (5s)\tMax score: 0.000\tMoving Avg: 0.163\n",
      "Episode 143 (10s)\tMax score: 0.100\tMoving Avg: 0.164\n",
      "Episode 144 (15s)\tMax score: 0.100\tMoving Avg: 0.165\n",
      "Episode 145 (33s)\tMax score: 0.300\tMoving Avg: 0.168\n",
      "Episode 146 (38s)\tMax score: 0.300\tMoving Avg: 0.171\n",
      "Episode 147 (26s)\tMax score: 0.200\tMoving Avg: 0.172\n",
      "Episode 148 (29s)\tMax score: 0.200\tMoving Avg: 0.173\n",
      "Episode 149 (15s)\tMax score: 0.100\tMoving Avg: 0.174\n",
      "Episode 150 (26s)\tMax score: 0.200\tMoving Avg: 0.175\n",
      "Episode 151 (21s)\tMax score: 0.200\tMoving Avg: 0.176\n",
      "Episode 152 (14s)\tMax score: 0.100\tMoving Avg: 0.176\n",
      "Episode 153 (48s)\tMax score: 0.290\tMoving Avg: 0.176\n",
      "Episode 154 (27s)\tMax score: 0.200\tMoving Avg: 0.177\n",
      "Episode 155 (19s)\tMax score: 0.100\tMoving Avg: 0.177\n",
      "Episode 156 (4s)\tMax score: 0.000\tMoving Avg: 0.177\n",
      "Episode 157 (16s)\tMax score: 0.100\tMoving Avg: 0.176\n",
      "Episode 158 (6s)\tMax score: 0.000\tMoving Avg: 0.175\n",
      "Episode 159 (61s)\tMax score: 0.500\tMoving Avg: 0.179\n",
      "Episode 160 (30s)\tMax score: 0.300\tMoving Avg: 0.181\n",
      "Episode 161 (16s)\tMax score: 0.100\tMoving Avg: 0.180\n",
      "Episode 162 (27s)\tMax score: 0.200\tMoving Avg: 0.181\n",
      "Episode 163 (16s)\tMax score: 0.100\tMoving Avg: 0.181\n",
      "Episode 164 (38s)\tMax score: 0.300\tMoving Avg: 0.182\n",
      "Episode 165 (33s)\tMax score: 0.300\tMoving Avg: 0.183\n",
      "Episode 166 (4s)\tMax score: 0.000\tMoving Avg: 0.182\n",
      "Episode 167 (94s)\tMax score: 0.800\tMoving Avg: 0.185\n",
      "Episode 168 (10s)\tMax score: 0.100\tMoving Avg: 0.186\n",
      "Episode 169 (39s)\tMax score: 0.300\tMoving Avg: 0.186\n",
      "Episode 170 (38s)\tMax score: 0.300\tMoving Avg: 0.187\n",
      "Episode 171 (83s)\tMax score: 0.700\tMoving Avg: 0.189\n",
      "Episode 172 (147s)\tMax score: 1.300\tMoving Avg: 0.200\n",
      "Episode 173 (15s)\tMax score: 0.100\tMoving Avg: 0.199\n",
      "Episode 174 (12s)\tMax score: 0.100\tMoving Avg: 0.199\n",
      "Episode 175 (61s)\tMax score: 0.500\tMoving Avg: 0.203\n",
      "Episode 176 (66s)\tMax score: 0.600\tMoving Avg: 0.208\n",
      "Episode 177 (38s)\tMax score: 0.300\tMoving Avg: 0.210\n",
      "Episode 178 (43s)\tMax score: 0.400\tMoving Avg: 0.213\n",
      "Episode 179 (44s)\tMax score: 0.400\tMoving Avg: 0.216\n",
      "Episode 180 (10s)\tMax score: 0.100\tMoving Avg: 0.212\n",
      "Episode 181 (10s)\tMax score: 0.100\tMoving Avg: 0.211\n",
      "Episode 182 (5s)\tMax score: 0.000\tMoving Avg: 0.211\n",
      "Episode 183 (10s)\tMax score: 0.090\tMoving Avg: 0.206\n",
      "Episode 184 (10s)\tMax score: 0.090\tMoving Avg: 0.206\n",
      "Episode 185 (32s)\tMax score: 0.300\tMoving Avg: 0.208\n",
      "Episode 186 (22s)\tMax score: 0.200\tMoving Avg: 0.209\n",
      "Episode 187 (45s)\tMax score: 0.400\tMoving Avg: 0.212\n",
      "Episode 188 (20s)\tMax score: 0.100\tMoving Avg: 0.212\n",
      "Episode 189 (41s)\tMax score: 0.300\tMoving Avg: 0.215\n",
      "Episode 190 (4s)\tMax score: 0.000\tMoving Avg: 0.215\n",
      "Episode 191 (4s)\tMax score: 0.000\tMoving Avg: 0.215\n",
      "Episode 192 (49s)\tMax score: 0.400\tMoving Avg: 0.219\n",
      "Episode 193 (36s)\tMax score: 0.300\tMoving Avg: 0.213\n",
      "Episode 194 (25s)\tMax score: 0.200\tMoving Avg: 0.214\n",
      "Episode 195 (27s)\tMax score: 0.200\tMoving Avg: 0.214\n",
      "Episode 196 (84s)\tMax score: 0.700\tMoving Avg: 0.219\n",
      "Episode 197 (20s)\tMax score: 0.190\tMoving Avg: 0.219\n",
      "Episode 198 (10s)\tMax score: 0.100\tMoving Avg: 0.219\n",
      "Episode 199 (4s)\tMax score: 0.000\tMoving Avg: 0.216\n",
      "Episode 200 (285s)\tMax score: 2.400\tMoving Avg: 0.239\n",
      "Episode 201 (300s)\tMax score: 2.600\tMoving Avg: 0.263\n",
      "Episode 202 (4s)\tMax score: 0.100\tMoving Avg: 0.263\n",
      "Episode 203 (218s)\tMax score: 1.890\tMoving Avg: 0.273\n",
      "Episode 204 (16s)\tMax score: 0.100\tMoving Avg: 0.272\n",
      "Episode 205 (33s)\tMax score: 0.300\tMoving Avg: 0.262\n",
      "Episode 206 (27s)\tMax score: 0.200\tMoving Avg: 0.262\n",
      "Episode 207 (124s)\tMax score: 1.100\tMoving Avg: 0.272\n",
      "Episode 208 (72s)\tMax score: 0.600\tMoving Avg: 0.277\n",
      "Episode 209 (16s)\tMax score: 0.100\tMoving Avg: 0.274\n",
      "Episode 210 (33s)\tMax score: 0.300\tMoving Avg: 0.276\n",
      "Episode 211 (192s)\tMax score: 1.600\tMoving Avg: 0.292\n",
      "Episode 212 (44s)\tMax score: 0.400\tMoving Avg: 0.295\n",
      "Episode 213 (10s)\tMax score: 0.100\tMoving Avg: 0.294\n",
      "Episode 214 (81s)\tMax score: 0.500\tMoving Avg: 0.295\n",
      "Episode 215 (27s)\tMax score: 0.200\tMoving Avg: 0.293\n",
      "Episode 216 (15s)\tMax score: 0.100\tMoving Avg: 0.291\n",
      "Episode 217 (34s)\tMax score: 0.300\tMoving Avg: 0.294\n",
      "Episode 218 (21s)\tMax score: 0.200\tMoving Avg: 0.294\n",
      "Episode 219 (4s)\tMax score: 0.000\tMoving Avg: 0.293\n",
      "Episode 220 (37s)\tMax score: 0.300\tMoving Avg: 0.296\n",
      "Episode 221 (9s)\tMax score: 0.100\tMoving Avg: 0.297\n",
      "Episode 222 (27s)\tMax score: 0.200\tMoving Avg: 0.293\n",
      "Episode 223 (26s)\tMax score: 0.200\tMoving Avg: 0.295\n",
      "Episode 224 (16s)\tMax score: 0.100\tMoving Avg: 0.296\n",
      "Episode 225 (26s)\tMax score: 0.200\tMoving Avg: 0.297\n",
      "Episode 226 (16s)\tMax score: 0.100\tMoving Avg: 0.298\n",
      "Episode 227 (60s)\tMax score: 0.500\tMoving Avg: 0.303\n",
      "Episode 228 (41s)\tMax score: 0.300\tMoving Avg: 0.305\n",
      "Episode 229 (38s)\tMax score: 0.300\tMoving Avg: 0.307\n",
      "Episode 230 (48s)\tMax score: 0.500\tMoving Avg: 0.311\n",
      "Episode 231 (278s)\tMax score: 2.400\tMoving Avg: 0.333\n",
      "Episode 232 (32s)\tMax score: 0.300\tMoving Avg: 0.333\n",
      "Episode 233 (15s)\tMax score: 0.100\tMoving Avg: 0.333\n",
      "Episode 234 (302s)\tMax score: 2.600\tMoving Avg: 0.358\n",
      "Episode 235 (10s)\tMax score: 0.100\tMoving Avg: 0.358\n",
      "Episode 236 (44s)\tMax score: 0.400\tMoving Avg: 0.361\n",
      "Episode 237 (78s)\tMax score: 0.700\tMoving Avg: 0.368\n",
      "Episode 238 (6s)\tMax score: 0.100\tMoving Avg: 0.369\n",
      "Episode 239 (303s)\tMax score: 2.600\tMoving Avg: 0.394\n",
      "Episode 240 (166s)\tMax score: 1.500\tMoving Avg: 0.408\n",
      "Episode 241 (137s)\tMax score: 1.200\tMoving Avg: 0.419\n",
      "Episode 242 (15s)\tMax score: 0.100\tMoving Avg: 0.420\n",
      "Episode 243 (39s)\tMax score: 0.300\tMoving Avg: 0.422\n",
      "Episode 244 (269s)\tMax score: 2.300\tMoving Avg: 0.444\n",
      "Episode 245 (258s)\tMax score: 2.200\tMoving Avg: 0.463\n",
      "Episode 246 (57s)\tMax score: 0.500\tMoving Avg: 0.465\n",
      "Episode 247 (16s)\tMax score: 0.100\tMoving Avg: 0.464\n",
      "Episode 248 (66s)\tMax score: 0.500\tMoving Avg: 0.467\n",
      "Episode 249 (56s)\tMax score: 0.500\tMoving Avg: 0.471\n",
      "Episode 250 (125s)\tMax score: 1.100\tMoving Avg: 0.480\n",
      "Episode 251 (131s)\tMax score: 1.100\tMoving Avg: 0.489\n",
      "Episode 252 (16s)\tMax score: 0.100\tMoving Avg: 0.489\n",
      "Episode 253 (68s)\tMax score: 0.500\tMoving Avg: 0.491\n",
      "Episode 254 (9s)\tMax score: 0.100\tMoving Avg: 0.490\n",
      "Episode 255 (257s)\tMax score: 2.200\tMoving Avg: 0.511\n",
      "\n",
      "Environment solved in 255 episodes.\tAverage score: 0.511\tTotal training time: 8696.894483804703s\n"
     ]
    }
   ],
   "source": [
    "from workspace_utils import active_session\n",
    " \n",
    "with active_session():\n",
    "    scores, avgs = ddpg(actor_weights_name ='actor_tennis.pth', critic_weights_name='critic_tennis.pth')"
   ]
  },
  {
   "cell_type": "code",
   "execution_count": 13,
   "metadata": {},
   "outputs": [
    {
     "data": {
      "image/png": "[encoded data removed]",
      "text/plain": [
       "<matplotlib.figure.Figure at 0x7f5270d1e780>"
      ]
     },
     "metadata": {
      "needs_background": "light"
     },
     "output_type": "display_data"
    }
   ],
   "source": [
    "# plot scores across episodes\n",
    "fig = plt.figure()\n",
    "ax = fig.add_subplot(111)\n",
    "plt.plot(np.arange(len(scores)), scores, label='DDPG')\n",
    "plt.plot(np.arange(len(scores)), avgs, c='r', label='Moving AVG')\n",
    "plt.ylabel('Score')\n",
    "plt.xlabel('Episode #')\n",
    "plt.legend(loc='upper left');\n",
    "plt.show()\n"
   ]
  },
  {
   "cell_type": "code",
   "execution_count": 14,
   "metadata": {},
   "outputs": [],
   "source": [
    "env.close()"
   ]
  },
  {
   "cell_type": "markdown",
   "metadata": {},
   "source": [
    "### 5. Future ideas to improve the agent's performance\n",
    "\n",
    "* DDPG can be improved by using prioritized experience replay. \n",
    "* Fine-tuning of hperparameters can also lead to better results and faster training time.\n",
    "* Applying [Multi Agent Actor Critic for Mixed Cooperative Competitive environments](https://papers.nips.cc/paper/7217-multi-agent-actor-critic-for-mixed-cooperative-competitive-environments.pdf)"
   ]
  },
  {
   "cell_type": "code",
   "execution_count": null,
   "metadata": {},
   "outputs": [],
   "source": []
  }
 ],
 "metadata": {
  "kernelspec": {
   "display_name": "Python 3",
   "language": "python",
   "name": "python3"
  },
  "language_info": {
   "codemirror_mode": {
    "name": "ipython",
    "version": 3
   },
   "file_extension": ".py",
   "mimetype": "text/x-python",
   "name": "python",
   "nbconvert_exporter": "python",
   "pygments_lexer": "ipython3",
   "version": "3.6.7"
  }
 },
 "nbformat": 4,
 "nbformat_minor": 2
}
